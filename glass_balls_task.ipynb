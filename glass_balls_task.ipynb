{
 "cells": [
  {
   "cell_type": "code",
   "execution_count": 1,
   "id": "d8aa3be5",
   "metadata": {
    "ExecuteTime": {
     "end_time": "2023-01-25T10:50:40.325003Z",
     "start_time": "2023-01-25T10:50:38.716447Z"
    }
   },
   "outputs": [],
   "source": [
    "import pandas as pd\n",
    "import matplotlib.pyplot as plt\n",
    "import math\n",
    "from itertools import product"
   ]
  },
  {
   "cell_type": "markdown",
   "id": "ef2b7286",
   "metadata": {},
   "source": [
    "Вирішення задачі з 2 скляними м'ячами і 100 поверховим будинком. \n",
    "Потрібно знайти найменший поверх, кинувши з якого м'яч розбивається, за найменшу кількість кидків.\n",
    "\n",
    "Функція рахує кількість кидків обох м'ячів за принципом: \n",
    "перший м'яч робить великий спліт в кілька поверхів,\n",
    "другий перевіряє кожен поверх між точками спліта, які визначив перший м'яч.\n",
    "Рух обох м'ячів від нижчого поверху до вищого.\n",
    "Завдання - знайти оптимальну кількість поверхів для спліта (spl_floors_num),\n",
    "щоб мінімізувати кількість кидків м'ячів."
   ]
  },
  {
   "cell_type": "code",
   "execution_count": 2,
   "id": "2d398bd2",
   "metadata": {
    "ExecuteTime": {
     "end_time": "2023-01-25T10:50:41.402258Z",
     "start_time": "2023-01-25T10:50:41.390035Z"
    }
   },
   "outputs": [],
   "source": [
    "def get_num_throws(crash_floor, spl_floors_num):\n",
    "    \"\"\" \n",
    "        crash_floor - поверх, який ми шукаємо.\n",
    "        spl_floors_num - кількість поверхів для великого спліта, перевіряємо першим м'ячем\n",
    "    \"\"\"\n",
    "    # кількість спліт точок (кидків) для першого м'яча. \n",
    "    # Визначаємо діленням crash_floor на spl_floors_num + фінальний кидок, \n",
    "    # щоб закрити проміжок, якщо є остача\n",
    "    ball_1_throws = math.ceil(crash_floor / spl_floors_num)\n",
    "\n",
    "    # кількість кидків для другого м'яча. \n",
    "    # остача від ділення, шукаємо другим м'ячем crash_floor між 2 спліт точками\n",
    "    #спеціальний кейс для crash_floor, який ділиться без остачі на spl_floors_num\n",
    "    #якщо crash_floor 50 або 49 при spl_floors_num 50, знадобиться 49 кидків, щоб це підтвердити\n",
    "    no_remainder = (crash_floor % spl_floors_num) == 0 \n",
    "\n",
    "    ball_2_throws = (crash_floor - no_remainder) % spl_floors_num\n",
    "\n",
    "    #фінальна кількість кидків обох м'ячів\n",
    "    n_throws = ball_1_throws + ball_2_throws\n",
    "    \n",
    "    return {'spl_floors_num':spl_floors_num,\n",
    "                      'ball_1_throws': ball_1_throws,\n",
    "                      'ball_2_throws': ball_2_throws,\n",
    "                     'n_throws': n_throws,\n",
    "                     'crash_floor': crash_floor}"
   ]
  },
  {
   "cell_type": "code",
   "execution_count": 3,
   "id": "246cffc0",
   "metadata": {
    "ExecuteTime": {
     "end_time": "2023-01-25T10:50:41.943483Z",
     "start_time": "2023-01-25T10:50:41.927350Z"
    }
   },
   "outputs": [],
   "source": [
    "crash_floor_list = [i for i in range(1, 101, 1)]\n",
    "spl_floors_num_list = [5, 10, 25, 50]\n",
    "results_list = [get_num_throws(cr_floor, spl_floors_n) for cr_floor, spl_floors_n \n",
    "                in product(crash_floor_list, spl_floors_num_list)]\n",
    "result_df = pd.DataFrame(results_list)"
   ]
  },
  {
   "cell_type": "code",
   "execution_count": 4,
   "id": "e34987a2",
   "metadata": {
    "ExecuteTime": {
     "end_time": "2023-01-25T10:50:42.360071Z",
     "start_time": "2023-01-25T10:50:42.304340Z"
    }
   },
   "outputs": [
    {
     "data": {
      "text/html": [
       "<div>\n",
       "<style scoped>\n",
       "    .dataframe tbody tr th:only-of-type {\n",
       "        vertical-align: middle;\n",
       "    }\n",
       "\n",
       "    .dataframe tbody tr th {\n",
       "        vertical-align: top;\n",
       "    }\n",
       "\n",
       "    .dataframe thead th {\n",
       "        text-align: right;\n",
       "    }\n",
       "</style>\n",
       "<table border=\"1\" class=\"dataframe\">\n",
       "  <thead>\n",
       "    <tr style=\"text-align: right;\">\n",
       "      <th></th>\n",
       "      <th>count</th>\n",
       "      <th>mean</th>\n",
       "      <th>std</th>\n",
       "      <th>min</th>\n",
       "      <th>25%</th>\n",
       "      <th>50%</th>\n",
       "      <th>75%</th>\n",
       "      <th>max</th>\n",
       "    </tr>\n",
       "    <tr>\n",
       "      <th>spl_floors_num</th>\n",
       "      <th></th>\n",
       "      <th></th>\n",
       "      <th></th>\n",
       "      <th></th>\n",
       "      <th></th>\n",
       "      <th></th>\n",
       "      <th></th>\n",
       "      <th></th>\n",
       "    </tr>\n",
       "  </thead>\n",
       "  <tbody>\n",
       "    <tr>\n",
       "      <th>5</th>\n",
       "      <td>100.0</td>\n",
       "      <td>13.30</td>\n",
       "      <td>5.912664</td>\n",
       "      <td>2.0</td>\n",
       "      <td>8.00</td>\n",
       "      <td>13.0</td>\n",
       "      <td>18.00</td>\n",
       "      <td>24.0</td>\n",
       "    </tr>\n",
       "    <tr>\n",
       "      <th>10</th>\n",
       "      <td>100.0</td>\n",
       "      <td>10.90</td>\n",
       "      <td>3.981016</td>\n",
       "      <td>2.0</td>\n",
       "      <td>8.00</td>\n",
       "      <td>11.0</td>\n",
       "      <td>14.00</td>\n",
       "      <td>19.0</td>\n",
       "    </tr>\n",
       "    <tr>\n",
       "      <th>25</th>\n",
       "      <td>100.0</td>\n",
       "      <td>15.46</td>\n",
       "      <td>7.270280</td>\n",
       "      <td>2.0</td>\n",
       "      <td>9.00</td>\n",
       "      <td>15.5</td>\n",
       "      <td>22.00</td>\n",
       "      <td>28.0</td>\n",
       "    </tr>\n",
       "    <tr>\n",
       "      <th>50</th>\n",
       "      <td>100.0</td>\n",
       "      <td>26.98</td>\n",
       "      <td>14.478811</td>\n",
       "      <td>2.0</td>\n",
       "      <td>14.75</td>\n",
       "      <td>27.0</td>\n",
       "      <td>39.25</td>\n",
       "      <td>51.0</td>\n",
       "    </tr>\n",
       "  </tbody>\n",
       "</table>\n",
       "</div>"
      ],
      "text/plain": [
       "                count   mean        std  min    25%   50%    75%   max\n",
       "spl_floors_num                                                        \n",
       "5               100.0  13.30   5.912664  2.0   8.00  13.0  18.00  24.0\n",
       "10              100.0  10.90   3.981016  2.0   8.00  11.0  14.00  19.0\n",
       "25              100.0  15.46   7.270280  2.0   9.00  15.5  22.00  28.0\n",
       "50              100.0  26.98  14.478811  2.0  14.75  27.0  39.25  51.0"
      ]
     },
     "execution_count": 4,
     "metadata": {},
     "output_type": "execute_result"
    }
   ],
   "source": [
    "gr_res = result_df.groupby(['spl_floors_num']).n_throws.describe()\n",
    "gr_res"
   ]
  },
  {
   "cell_type": "markdown",
   "id": "59390393",
   "metadata": {},
   "source": [
    "Судячи з таблички, оптимальним буде крок спліта в 10 поверхів, \n",
    "оскільки при найгіршому кейсі він дає 19 кидків, а в середньому 10.9.\n",
    "Занадто малий крок, наприклад в 5 поверхів дає гірший результат.\n",
    "Але й варіант на 25 поверхів, який ми проговорювали на співбесіді не є оптимальним.\n",
    "Тим більше, перше рішення на 50 поверхів.\n",
    "Звісно, перевірити гіпотезу на 10 поверхів можна було і на листочку, але захотілось втілити рішення в коді :)"
   ]
  },
  {
   "cell_type": "markdown",
   "id": "d533b0f3",
   "metadata": {},
   "source": [
    "П.С. Ще може бути спеціальний випадок для 100 поверху.\n",
    "Якщо нам точно відомо, що на одному зі 100 поверхів м'яч розіб'ється, \n",
    "тоді дійшовши до останнього спліта (кидок м'ячем 1), варто кидати його з 99го поверху.\n",
    "У випадку, якщо м'яч не розіб'ється, ми точно знатимемо, що 100 це поверх, який нам потрібен\n",
    "навіть без перевірки другим м'ячем. Тоді найгіршим сценарієм буде 99 поверх. "
   ]
  }
 ],
 "metadata": {
  "kernelspec": {
   "display_name": "Python 3 (ipykernel)",
   "language": "python",
   "name": "python3"
  },
  "language_info": {
   "codemirror_mode": {
    "name": "ipython",
    "version": 3
   },
   "file_extension": ".py",
   "mimetype": "text/x-python",
   "name": "python",
   "nbconvert_exporter": "python",
   "pygments_lexer": "ipython3",
   "version": "3.8.13"
  },
  "toc": {
   "base_numbering": 1,
   "nav_menu": {},
   "number_sections": true,
   "sideBar": true,
   "skip_h1_title": false,
   "title_cell": "Table of Contents",
   "title_sidebar": "Contents",
   "toc_cell": false,
   "toc_position": {},
   "toc_section_display": true,
   "toc_window_display": false
  }
 },
 "nbformat": 4,
 "nbformat_minor": 5
}
